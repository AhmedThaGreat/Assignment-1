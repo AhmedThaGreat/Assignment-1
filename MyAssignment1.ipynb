{
 "cells": [
  {
   "cell_type": "code",
   "execution_count": 31,
   "id": "326090b2",
   "metadata": {},
   "outputs": [
    {
     "name": "stdout",
     "output_type": "stream",
     "text": [
      "Time taken to sort data that is already sorted = 0.00011749999976018444\n",
      "Time taken to sort data that is in reverse order = 0.00021299999934853986\n"
     ]
    }
   ],
   "source": [
    " key = {'ID':0, 'Name':1, 'Price':2, 'Category':3}\n",
    "######## Data Management Using Fundamental Structures ########\n",
    "def DataLoad(txt_file):\n",
    "    data = []\n",
    "\n",
    "    with open(txt_file, 'r') as file:\n",
    "        lines = file.readlines()\n",
    "\n",
    "    for line in lines:\n",
    "        Id = int(line.strip().split(', ')[0])\n",
    "        Name = (line.strip().split(', ')[1])\n",
    "        Price = float(line.strip().split(', ')[2])\n",
    "        Category = (line.strip().split(', ')[3])\n",
    "        data.append([Id,Name,Price,Category])\n",
    "        \n",
    "    return data\n",
    "\n",
    "\n",
    "data = DataLoad('product_data.txt')\n",
    "\n",
    "    \n",
    "######## Data Manipulation Operations ########\n",
    "\n",
    "def Insert(Id, Name, Price, Category):\n",
    "    \"\"\" Inserts an element into the very end of the data structure \"\"\"\n",
    "    data.append([int(Id),Name,float(Price),Category])\n",
    "     \n",
    "    \n",
    "def Update(Identifier_Attribute, Identifier, Updating_Attribute, Updated_Info):\n",
    "    \"\"\" Given an Identifier_Attribute, such as 'ID' or 'Name' and the\n",
    "        target product's Identifier, this function updates the corresponding\n",
    "        Updating_Attribute with Updated_Info \"\"\"\n",
    "    index = data.index(Search(Identifier_Attribute, Identifier))\n",
    "    data[index][key[Updating_Attribute]] = Updated_Info\n",
    "    print('succesful')\n",
    "\n",
    "def Delete(Attribute, Identifier):\n",
    "    \"\"\" Given an Attribute, such as 'ID' or 'Name'\n",
    "        Function deletes corresponding product details \"\"\"\n",
    "    index = data.index(Search(Attribute, Identifier))\n",
    "    data.pop(index)\n",
    "    \n",
    "    \n",
    "def Search(Attribute, Identifier):\n",
    "    \"\"\" Given an Attribute, such as 'ID' or 'Name'\n",
    "        This function returns the product details \"\"\"\n",
    "    j = key[Attribute]\n",
    "    for i in range(len(data)):\n",
    "        if data[i][j] == Identifier:\n",
    "            return data[i]\n",
    "    return None\n",
    "\n",
    "\n",
    "\n",
    "######## Data Manipulation Operations ########\n",
    "\n",
    "def Swap(array, index_1, index_2):\n",
    "    \"\"\" Helper Function to assist Bubble Sort \n",
    "        Swaps 2 elements at specified indexes \"\"\"\n",
    "    array[index_1], array[index_2] = array[index_2], array[index_1]\n",
    "    return array\n",
    "\n",
    "def BubbleSort(array):\n",
    "    k = key['Price']\n",
    "    for i in range(len(array)):\n",
    "        for j in range(len(array)-1):\n",
    "            if array[j][k] > array[j+1][k]:\n",
    "                array = Swap(array, j, j+1)\n",
    "                \n",
    "                \n",
    "######## Complexity Analysis ########\n",
    "\"\"\" From class, we know that the worst-case scenario for Bubble Sort is O(n^2).\n",
    "    Additionally, the best-case scenario for Bubble Sort is O(n). \n",
    "    I will use the timeit library to record the times and analyze time complexities \"\"\"\n",
    "\n",
    "import timeit\n",
    "\n",
    "# Best-Case Scenario\n",
    "BubbleSort(data)\n",
    "time = timeit.timeit(lambda: BubbleSort(data), number=1)\n",
    "print('Time taken to sort data that is already sorted = ' + str(time))\n",
    "\n",
    "# Worst-Case Scenario\n",
    "data = data[::-1]\n",
    "time = timeit.timeit(lambda: BubbleSort(data), number=1)\n",
    "print('Time taken to sort data that is in reverse order = ' + str(time))\n",
    "\n"
   ]
  },
  {
   "cell_type": "code",
   "execution_count": 22,
   "id": "9f4745ba",
   "metadata": {},
   "outputs": [
    {
     "data": {
      "text/plain": [
       "[[68097, 'Camera SGSRZ', 36.39, 'Electronics'],\n",
       " [30483, 'Knife Set WRSZZ', 55.97, 'Home & Kitchen'],\n",
       " [44574, 'Knife Set ASRHX', 64.62, 'Home & Kitchen'],\n",
       " [69525, 'Camera XROCD', 76.05, 'Electronics'],\n",
       " [20368, 'Shirt FQFPK', 83.19, 'Clothing'],\n",
       " [86128, 'Biography ASTVE', 90.44, 'Books'],\n",
       " [27939, 'Textbook TWQKZ', 108.5, 'Books'],\n",
       " [30631, 'Headphones JFGYQ', 115.08, 'Electronics'],\n",
       " [97895, 'Blender KSJHL', 123.25, 'Home & Kitchen'],\n",
       " [98625, 'Mystery BOPTP', 160.68, 'Books'],\n",
       " [66208, 'Blender GCZSK', 161.83, 'Home & Kitchen'],\n",
       " [22806, 'Smartwatch VVFNT', 203.55, 'Electronics'],\n",
       " [41355, 'Headphones JOUXM', 211.57, 'Electronics'],\n",
       " [39148, 'Cutting Board OYHCV', 220.15, 'Home & Kitchen'],\n",
       " [98827, 'Shirt RSQGL', 231.54, 'Clothing'],\n",
       " [87296, 'Skirt IRTZX', 261.08, 'Clothing'],\n",
       " [34863, 'Biography XPESK', 287.31, 'Books'],\n",
       " [10889, 'Shirt DNRZU', 316.48, 'Clothing'],\n",
       " [26556, 'Novel METLI', 376.45, 'Books'],\n",
       " [43451, 'Mixer CKVJQ', 379.5, 'Home & Kitchen'],\n",
       " [62422, 'Camera VFQWS', 382.69, 'Electronics'],\n",
       " [30895, 'Knife Set KGFUF', 385.77, 'Home & Kitchen'],\n",
       " [68215, 'Laptop QLBQC', 404.21, 'Electronics'],\n",
       " [17646, 'Biography BPWXR', 424.83, 'Books'],\n",
       " [18086, 'Shirt ZQLTI', 439.07, 'Clothing'],\n",
       " [24976, 'Pants YZMAK', 449.56, 'Clothing'],\n",
       " [30251, 'Pants HCBKI', 450.68, 'Clothing'],\n",
       " [19897, 'Blender DPKLR', 488.62, 'Home & Kitchen'],\n",
       " [64489, 'Novel EFPYC', 502.61, 'Books'],\n",
       " [93533, 'Novel WOHSN', 516.39, 'Books'],\n",
       " [57353, 'Camera SBBHC', 546.88, 'Electronics'],\n",
       " [95090, 'Cutting Board RBACL', 568.63, 'Home & Kitchen'],\n",
       " [40852, 'Novel IRROY', 603.68, 'Books'],\n",
       " [96314, 'Cutting Board LUICX', 628.29, 'Home & Kitchen'],\n",
       " [85719, 'Laptop GZORF', 641.33, 'Electronics'],\n",
       " [46944, 'Smartwatch QNALX', 647.08, 'Electronics'],\n",
       " [68960, 'Blender OMDPS', 720.06, 'Home & Kitchen'],\n",
       " [25425, 'Mystery MGSPG', 783.17, 'Books'],\n",
       " [82777, 'Shirt OZWXU', 790.46, 'Clothing'],\n",
       " [13471, 'Knife Set TPCMO', 831.9, 'Home & Kitchen'],\n",
       " [43566, 'Mystery COKPK', 836.57, 'Books'],\n",
       " [90291, 'Pants TIPUD', 853.38, 'Clothing'],\n",
       " [69260, 'Toaster FODKJ', 867.6, 'Home & Kitchen'],\n",
       " [12848, 'Toaster VZXUE', 867.97, 'Home & Kitchen'],\n",
       " [28710, 'Dress FRSMO', 879.09, 'Clothing'],\n",
       " [40374, 'Smartphone ILGCU', 947.54, 'Electronics'],\n",
       " [94162, 'Laptop WRJOZ', 956.53, 'Electronics'],\n",
       " [16041, 'Jacket OTBKQ', 986.73, 'Clothing'],\n",
       " [85197, 'Cutting Board IJVPP', 986.89, 'Home & Kitchen'],\n",
       " [66237, 'Headphones LTPLK', 995.13, 'Electronics'],\n",
       " [67543, 'Graphics Card', 1200.99, 'Electronics'],\n",
       " [67543, 'Graphics Card', 1200.99, 'Electronics'],\n",
       " [67543, 'Graphics Card', 1200.99, 'Electronics']]"
      ]
     },
     "execution_count": 22,
     "metadata": {},
     "output_type": "execute_result"
    }
   ],
   "source": [
    "data\n",
    "Search('ID', 30483)\n",
    "Search('ID', 82777)\n",
    "Insert('67543', 'Graphics Card', 1200.99, \"Electronics\")\n",
    "data\n",
    "Delete('Name', 'Graphics Card')\n",
    "data\n",
    "\n"
   ]
  },
  {
   "cell_type": "code",
   "execution_count": 23,
   "id": "93e9f14f",
   "metadata": {},
   "outputs": [
    {
     "data": {
      "text/plain": [
       "[[68097, 'Camera SGSRZ', 36.39, 'Electronics'],\n",
       " [30483, 'Knife Set WRSZZ', 55.97, 'Home & Kitchen'],\n",
       " [44574, 'Knife Set ASRHX', 64.62, 'Home & Kitchen'],\n",
       " [69525, 'Camera XROCD', 76.05, 'Electronics'],\n",
       " [20368, 'Shirt FQFPK', 83.19, 'Clothing'],\n",
       " [86128, 'Biography ASTVE', 90.44, 'Books'],\n",
       " [27939, 'Textbook TWQKZ', 108.5, 'Books'],\n",
       " [30631, 'Headphones JFGYQ', 115.08, 'Electronics'],\n",
       " [97895, 'Blender KSJHL', 123.25, 'Home & Kitchen'],\n",
       " [98625, 'Mystery BOPTP', 160.68, 'Books'],\n",
       " [66208, 'Blender GCZSK', 161.83, 'Home & Kitchen'],\n",
       " [22806, 'Smartwatch VVFNT', 203.55, 'Electronics'],\n",
       " [41355, 'Headphones JOUXM', 211.57, 'Electronics'],\n",
       " [39148, 'Cutting Board OYHCV', 220.15, 'Home & Kitchen'],\n",
       " [98827, 'Shirt RSQGL', 231.54, 'Clothing'],\n",
       " [87296, 'Skirt IRTZX', 261.08, 'Clothing'],\n",
       " [34863, 'Biography XPESK', 287.31, 'Books'],\n",
       " [10889, 'Shirt DNRZU', 316.48, 'Clothing'],\n",
       " [26556, 'Novel METLI', 376.45, 'Books'],\n",
       " [43451, 'Mixer CKVJQ', 379.5, 'Home & Kitchen'],\n",
       " [62422, 'Camera VFQWS', 382.69, 'Electronics'],\n",
       " [30895, 'Knife Set KGFUF', 385.77, 'Home & Kitchen'],\n",
       " [68215, 'Laptop QLBQC', 404.21, 'Electronics'],\n",
       " [17646, 'Biography BPWXR', 424.83, 'Books'],\n",
       " [18086, 'Shirt ZQLTI', 439.07, 'Clothing'],\n",
       " [24976, 'Pants YZMAK', 449.56, 'Clothing'],\n",
       " [30251, 'Pants HCBKI', 450.68, 'Clothing'],\n",
       " [19897, 'Blender DPKLR', 488.62, 'Home & Kitchen'],\n",
       " [64489, 'Novel EFPYC', 502.61, 'Books'],\n",
       " [93533, 'Novel WOHSN', 516.39, 'Books'],\n",
       " [57353, 'Camera SBBHC', 546.88, 'Electronics'],\n",
       " [95090, 'Cutting Board RBACL', 568.63, 'Home & Kitchen'],\n",
       " [40852, 'Novel IRROY', 603.68, 'Books'],\n",
       " [96314, 'Cutting Board LUICX', 628.29, 'Home & Kitchen'],\n",
       " [85719, 'Laptop GZORF', 641.33, 'Electronics'],\n",
       " [46944, 'Smartwatch QNALX', 647.08, 'Electronics'],\n",
       " [68960, 'Blender OMDPS', 720.06, 'Home & Kitchen'],\n",
       " [25425, 'Mystery MGSPG', 783.17, 'Books'],\n",
       " [82777, 'Shirt OZWXU', 790.46, 'Clothing'],\n",
       " [13471, 'Knife Set TPCMO', 831.9, 'Home & Kitchen'],\n",
       " [43566, 'Mystery COKPK', 836.57, 'Books'],\n",
       " [90291, 'Pants TIPUD', 853.38, 'Clothing'],\n",
       " [69260, 'Toaster FODKJ', 867.6, 'Home & Kitchen'],\n",
       " [12848, 'Toaster VZXUE', 867.97, 'Home & Kitchen'],\n",
       " [28710, 'Dress FRSMO', 879.09, 'Clothing'],\n",
       " [40374, 'Smartphone ILGCU', 947.54, 'Electronics'],\n",
       " [94162, 'Laptop WRJOZ', 956.53, 'Electronics'],\n",
       " [16041, 'Jacket OTBKQ', 986.73, 'Clothing'],\n",
       " [85197, 'Cutting Board IJVPP', 986.89, 'Home & Kitchen'],\n",
       " [66237, 'Headphones LTPLK', 995.13, 'Electronics'],\n",
       " [67543, 'Graphics Card', 1200.99, 'Electronics'],\n",
       " [67543, 'Graphics Card', 1200.99, 'Electronics']]"
      ]
     },
     "execution_count": 23,
     "metadata": {},
     "output_type": "execute_result"
    }
   ],
   "source": [
    "Delete('Name', 'Graphics Card',)\n",
    "data"
   ]
  },
  {
   "cell_type": "code",
   "execution_count": 29,
   "id": "9d30ad07",
   "metadata": {},
   "outputs": [
    {
     "name": "stdout",
     "output_type": "stream",
     "text": [
      "succesful\n"
     ]
    },
    {
     "data": {
      "text/plain": [
       "[[68097, 'Supa Camera', 36.39, 'Electronics'],\n",
       " [30483, 'Knife Set WRSZZ', 55.97, 'Home & Kitchen'],\n",
       " [44574, 'Knife Set ASRHX', 64.62, 'Home & Kitchen'],\n",
       " [69525, 'Camera XROCD', 76.05, 'Electronics'],\n",
       " [20368, 'Shirt FQFPK', 83.19, 'Clothing'],\n",
       " [86128, 'Biography ASTVE', 90.44, 'Books'],\n",
       " [27939, 'Textbook TWQKZ', 108.5, 'Books'],\n",
       " [30631, 'Headphones JFGYQ', 115.08, 'Electronics'],\n",
       " [97895, 'Blender KSJHL', 123.25, 'Home & Kitchen'],\n",
       " [98625, 'Mystery BOPTP', 160.68, 'Books'],\n",
       " [66208, 'Blender GCZSK', 161.83, 'Home & Kitchen'],\n",
       " [22806, 'Smartwatch VVFNT', 203.55, 'Electronics'],\n",
       " [41355, 'Headphones JOUXM', 211.57, 'Electronics'],\n",
       " [39148, 'Cutting Board OYHCV', 220.15, 'Home & Kitchen'],\n",
       " [98827, 'Shirt RSQGL', 231.54, 'Clothing'],\n",
       " [87296, 'Skirt IRTZX', 261.08, 'Clothing'],\n",
       " [34863, 'Biography XPESK', 287.31, 'Books'],\n",
       " [10889, 'Shirt DNRZU', 316.48, 'Clothing'],\n",
       " [26556, 'Novel METLI', 376.45, 'Books'],\n",
       " [43451, 'Mixer CKVJQ', 379.5, 'Home & Kitchen'],\n",
       " [62422, 'Camera VFQWS', 382.69, 'Electronics'],\n",
       " [30895, 'Knife Set KGFUF', 385.77, 'Home & Kitchen'],\n",
       " [68215, 'Laptop QLBQC', 404.21, 'Electronics'],\n",
       " [17646, 'Biography BPWXR', 424.83, 'Books'],\n",
       " [18086, 'Shirt ZQLTI', 439.07, 'Clothing'],\n",
       " [24976, 'Pants YZMAK', 449.56, 'Clothing'],\n",
       " [30251, 'Pants HCBKI', 450.68, 'Clothing'],\n",
       " [19897, 'Blender DPKLR', 488.62, 'Home & Kitchen'],\n",
       " [64489, 'Novel EFPYC', 502.61, 'Books'],\n",
       " [93533, 'Novel WOHSN', 516.39, 'Books'],\n",
       " [57353, 'Camera SBBHC', 546.88, 'Electronics'],\n",
       " [95090, 'Cutting Board RBACL', 568.63, 'Home & Kitchen'],\n",
       " [40852, 'Novel IRROY', 603.68, 'Books'],\n",
       " [96314, 'Cutting Board LUICX', 628.29, 'Home & Kitchen'],\n",
       " [85719, 'Laptop GZORF', 641.33, 'Electronics'],\n",
       " [46944, 'Smartwatch QNALX', 647.08, 'Electronics'],\n",
       " [68960, 'Blender OMDPS', 720.06, 'Home & Kitchen'],\n",
       " [25425, 'Mystery MGSPG', 783.17, 'Books'],\n",
       " [82777, 'Shirt OZWXU', 790.46, 'Clothing'],\n",
       " [13471, 'Knife Set TPCMO', 831.9, 'Home & Kitchen'],\n",
       " [43566, 'Mystery COKPK', 836.57, 'Books'],\n",
       " [90291, 'Pants TIPUD', 853.38, 'Clothing'],\n",
       " [69260, 'Toaster FODKJ', 867.6, 'Home & Kitchen'],\n",
       " [12848, 'Toaster VZXUE', 867.97, 'Home & Kitchen'],\n",
       " [28710, 'Dress FRSMO', 879.09, 'Clothing'],\n",
       " [40374, 'Smartphone ILGCU', 947.54, 'Electronics'],\n",
       " [94162, 'Laptop WRJOZ', 956.53, 'Electronics'],\n",
       " [16041, 'Jacket OTBKQ', 986.73, 'Clothing'],\n",
       " [85197, 'Cutting Board IJVPP', 986.89, 'Home & Kitchen'],\n",
       " [66237, 'Headphones LTPLK', 995.13, 'Electronics']]"
      ]
     },
     "execution_count": 29,
     "metadata": {},
     "output_type": "execute_result"
    }
   ],
   "source": [
    "Update('Name','Camera SGSRZ', 'Name', 'Supa Camera')\n",
    "data"
   ]
  },
  {
   "cell_type": "code",
   "execution_count": 8,
   "id": "f2855ba0",
   "metadata": {},
   "outputs": [],
   "source": [
    "\n"
   ]
  },
  {
   "cell_type": "code",
   "execution_count": 10,
   "id": "9294c052",
   "metadata": {},
   "outputs": [
    {
     "data": {
      "text/plain": [
       "7"
      ]
     },
     "execution_count": 10,
     "metadata": {},
     "output_type": "execute_result"
    }
   ],
   "source": [
    "a"
   ]
  },
  {
   "cell_type": "code",
   "execution_count": 2,
   "id": "de6268dc",
   "metadata": {},
   "outputs": [
    {
     "ename": "SyntaxError",
     "evalue": "invalid syntax (3133811634.py, line 1)",
     "output_type": "error",
     "traceback": [
      "\u001b[1;36m  Cell \u001b[1;32mIn[2], line 1\u001b[1;36m\u001b[0m\n\u001b[1;33m    ID 82777\u001b[0m\n\u001b[1;37m       ^\u001b[0m\n\u001b[1;31mSyntaxError\u001b[0m\u001b[1;31m:\u001b[0m invalid syntax\n"
     ]
    }
   ],
   "source": [
    "ID 82777\n"
   ]
  },
  {
   "cell_type": "code",
   "execution_count": 3,
   "id": "0fbec347",
   "metadata": {},
   "outputs": [
    {
     "data": {
      "text/plain": [
       "2690895775888"
      ]
     },
     "execution_count": 3,
     "metadata": {},
     "output_type": "execute_result"
    }
   ],
   "source": [
    "id (82777)"
   ]
  },
  {
   "cell_type": "code",
   "execution_count": 6,
   "id": "13f2b67e",
   "metadata": {},
   "outputs": [
    {
     "ename": "NameError",
     "evalue": "name 'ID' is not defined",
     "output_type": "error",
     "traceback": [
      "\u001b[1;31m---------------------------------------------------------------------------\u001b[0m",
      "\u001b[1;31mNameError\u001b[0m                                 Traceback (most recent call last)",
      "Cell \u001b[1;32mIn[6], line 1\u001b[0m\n\u001b[1;32m----> 1\u001b[0m [ID]\n",
      "\u001b[1;31mNameError\u001b[0m: name 'ID' is not defined"
     ]
    }
   ],
   "source": [
    "[ID]"
   ]
  },
  {
   "cell_type": "code",
   "execution_count": 7,
   "id": "85941b78",
   "metadata": {},
   "outputs": [
    {
     "data": {
      "text/plain": [
       "[82777]"
      ]
     },
     "execution_count": 7,
     "metadata": {},
     "output_type": "execute_result"
    }
   ],
   "source": [
    "[82777]"
   ]
  },
  {
   "cell_type": "code",
   "execution_count": null,
   "id": "ad665c75",
   "metadata": {},
   "outputs": [],
   "source": []
  },
  {
   "cell_type": "code",
   "execution_count": 8,
   "id": "c27ad5ce",
   "metadata": {},
   "outputs": [
    {
     "ename": "SyntaxError",
     "evalue": "invalid syntax. Perhaps you forgot a comma? (3837068939.py, line 1)",
     "output_type": "error",
     "traceback": [
      "\u001b[1;36m  Cell \u001b[1;32mIn[8], line 1\u001b[1;36m\u001b[0m\n\u001b[1;33m    [ID 82777]\u001b[0m\n\u001b[1;37m     ^\u001b[0m\n\u001b[1;31mSyntaxError\u001b[0m\u001b[1;31m:\u001b[0m invalid syntax. Perhaps you forgot a comma?\n"
     ]
    }
   ],
   "source": [
    "[ID 82777]"
   ]
  },
  {
   "cell_type": "code",
   "execution_count": 9,
   "id": "8747e4e9",
   "metadata": {
    "scrolled": true
   },
   "outputs": [
    {
     "ename": "NameError",
     "evalue": "name 'ID' is not defined",
     "output_type": "error",
     "traceback": [
      "\u001b[1;31m---------------------------------------------------------------------------\u001b[0m",
      "\u001b[1;31mNameError\u001b[0m                                 Traceback (most recent call last)",
      "Cell \u001b[1;32mIn[9], line 1\u001b[0m\n\u001b[1;32m----> 1\u001b[0m [ID, \u001b[38;5;241m82777\u001b[39m]\n",
      "\u001b[1;31mNameError\u001b[0m: name 'ID' is not defined"
     ]
    }
   ],
   "source": [
    "[ID, 82777]"
   ]
  }
 ],
 "metadata": {
  "kernelspec": {
   "display_name": "Python 3 (ipykernel)",
   "language": "python",
   "name": "python3"
  },
  "language_info": {
   "codemirror_mode": {
    "name": "ipython",
    "version": 3
   },
   "file_extension": ".py",
   "mimetype": "text/x-python",
   "name": "python",
   "nbconvert_exporter": "python",
   "pygments_lexer": "ipython3",
   "version": "3.11.5"
  }
 },
 "nbformat": 4,
 "nbformat_minor": 5
}
